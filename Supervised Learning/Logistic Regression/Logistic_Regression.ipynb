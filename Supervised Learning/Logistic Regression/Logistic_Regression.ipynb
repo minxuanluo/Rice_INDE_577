{
  "nbformat": 4,
  "nbformat_minor": 0,
  "metadata": {
    "colab": {
      "name": "Logistic_Regression.ipynb",
      "provenance": [],
      "collapsed_sections": [],
      "toc_visible": true
    },
    "kernelspec": {
      "name": "python3",
      "display_name": "Python 3"
    },
    "language_info": {
      "name": "python"
    }
  },
  "cells": [
    {
      "cell_type": "markdown",
      "source": [
        "### Logistic Regression"
      ],
      "metadata": {
        "id": "sv7NcfBpcFet"
      }
    },
    {
      "cell_type": "markdown",
      "source": [
        "I like to use Logistic Regression model as a baseline model because of its simplicity and interpretability. Unlike many other machine learning models, we can easily see how each explanatory variable is contributing to the prediction based on its coefficient estimates."
      ],
      "metadata": {
        "id": "mg0zpCDXcIM5"
      }
    },
    {
      "cell_type": "markdown",
      "source": [
        "This is a relatively unbalanced dataset, so I used SMOTE oversampling on the training set, and it indeed improves the model performance (when testing the model on an original imbalanced test set). **In all other classification Machine Learning models with this dataset, I used the same SMOTE oversampling training and testing data** - to enable comparison. The data files are saved after preprocessing."
      ],
      "metadata": {
        "id": "BDEm9NUwcgz2"
      }
    },
    {
      "cell_type": "markdown",
      "source": [
        "The process of running Logistic Regression model and examining the results also deepens my understanding of the dataset and informs variable selection based on our purpose of analysis."
      ],
      "metadata": {
        "id": "uho5NPZmc4CG"
      }
    },
    {
      "cell_type": "markdown",
      "source": [
        "As an exercise, self-implementation of logistic regression is also included in the last section."
      ],
      "metadata": {
        "id": "apuy5deQdFNW"
      }
    },
    {
      "cell_type": "code",
      "execution_count": null,
      "metadata": {
        "id": "1iYOrhfX0XpN"
      },
      "outputs": [],
      "source": [
        "import pandas as pd\n",
        "import numpy as np\n",
        "import matplotlib.pyplot as plt\n",
        "import seaborn as sns\n",
        "#from sklearn.preprocessing import OneHotEncoder "
      ]
    },
    {
      "cell_type": "code",
      "execution_count": null,
      "metadata": {
        "id": "jD6FsNo1mhht"
      },
      "outputs": [],
      "source": [
        "import warnings\n",
        "warnings.filterwarnings(\"ignore\")"
      ]
    },
    {
      "cell_type": "code",
      "execution_count": null,
      "metadata": {
        "colab": {
          "base_uri": "https://localhost:8080/"
        },
        "id": "N8Yv9LzgUBMS",
        "outputId": "9ba75ae5-38ec-427e-f9a3-e31c787d251c"
      },
      "outputs": [
        {
          "output_type": "stream",
          "name": "stdout",
          "text": [
            "Mounted at /gdrive/\n"
          ]
        }
      ],
      "source": [
        "from google.colab import drive\n",
        "import os \n",
        "drive.mount('/gdrive/')"
      ]
    },
    {
      "cell_type": "code",
      "execution_count": null,
      "metadata": {
        "colab": {
          "base_uri": "https://localhost:8080/",
          "height": 270
        },
        "id": "tFyBGkIFH7YB",
        "outputId": "70841da0-1c25-4fe4-ad7b-c740b0f0d624"
      },
      "outputs": [
        {
          "output_type": "execute_result",
          "data": {
            "text/plain": [
              "  HeartDisease    BMI Smoking AlcoholDrinking Stroke  PhysicalHealth  \\\n",
              "0           No  16.60     Yes              No     No             3.0   \n",
              "1           No  20.34      No              No    Yes             0.0   \n",
              "2           No  26.58     Yes              No     No            20.0   \n",
              "3           No  24.21      No              No     No             0.0   \n",
              "4           No  23.71      No              No     No            28.0   \n",
              "\n",
              "   MentalHealth DiffWalking     Sex  AgeCategory   Race Diabetic  \\\n",
              "0          30.0          No  Female        55-59  White      Yes   \n",
              "1           0.0          No  Female  80 or older  White       No   \n",
              "2          30.0          No    Male        65-69  White      Yes   \n",
              "3           0.0          No  Female        75-79  White       No   \n",
              "4           0.0         Yes  Female        40-44  White       No   \n",
              "\n",
              "  PhysicalActivity  GenHealth  SleepTime Asthma KidneyDisease SkinCancer  \n",
              "0              Yes  Very good        5.0    Yes            No        Yes  \n",
              "1              Yes  Very good        7.0     No            No         No  \n",
              "2              Yes       Fair        8.0    Yes            No         No  \n",
              "3               No       Good        6.0     No            No        Yes  \n",
              "4              Yes  Very good        8.0     No            No         No  "
            ],
            "text/html": [
              "\n",
              "  <div id=\"df-16058648-eab2-40e6-88df-c77fe19a5fa2\">\n",
              "    <div class=\"colab-df-container\">\n",
              "      <div>\n",
              "<style scoped>\n",
              "    .dataframe tbody tr th:only-of-type {\n",
              "        vertical-align: middle;\n",
              "    }\n",
              "\n",
              "    .dataframe tbody tr th {\n",
              "        vertical-align: top;\n",
              "    }\n",
              "\n",
              "    .dataframe thead th {\n",
              "        text-align: right;\n",
              "    }\n",
              "</style>\n",
              "<table border=\"1\" class=\"dataframe\">\n",
              "  <thead>\n",
              "    <tr style=\"text-align: right;\">\n",
              "      <th></th>\n",
              "      <th>HeartDisease</th>\n",
              "      <th>BMI</th>\n",
              "      <th>Smoking</th>\n",
              "      <th>AlcoholDrinking</th>\n",
              "      <th>Stroke</th>\n",
              "      <th>PhysicalHealth</th>\n",
              "      <th>MentalHealth</th>\n",
              "      <th>DiffWalking</th>\n",
              "      <th>Sex</th>\n",
              "      <th>AgeCategory</th>\n",
              "      <th>Race</th>\n",
              "      <th>Diabetic</th>\n",
              "      <th>PhysicalActivity</th>\n",
              "      <th>GenHealth</th>\n",
              "      <th>SleepTime</th>\n",
              "      <th>Asthma</th>\n",
              "      <th>KidneyDisease</th>\n",
              "      <th>SkinCancer</th>\n",
              "    </tr>\n",
              "  </thead>\n",
              "  <tbody>\n",
              "    <tr>\n",
              "      <th>0</th>\n",
              "      <td>No</td>\n",
              "      <td>16.60</td>\n",
              "      <td>Yes</td>\n",
              "      <td>No</td>\n",
              "      <td>No</td>\n",
              "      <td>3.0</td>\n",
              "      <td>30.0</td>\n",
              "      <td>No</td>\n",
              "      <td>Female</td>\n",
              "      <td>55-59</td>\n",
              "      <td>White</td>\n",
              "      <td>Yes</td>\n",
              "      <td>Yes</td>\n",
              "      <td>Very good</td>\n",
              "      <td>5.0</td>\n",
              "      <td>Yes</td>\n",
              "      <td>No</td>\n",
              "      <td>Yes</td>\n",
              "    </tr>\n",
              "    <tr>\n",
              "      <th>1</th>\n",
              "      <td>No</td>\n",
              "      <td>20.34</td>\n",
              "      <td>No</td>\n",
              "      <td>No</td>\n",
              "      <td>Yes</td>\n",
              "      <td>0.0</td>\n",
              "      <td>0.0</td>\n",
              "      <td>No</td>\n",
              "      <td>Female</td>\n",
              "      <td>80 or older</td>\n",
              "      <td>White</td>\n",
              "      <td>No</td>\n",
              "      <td>Yes</td>\n",
              "      <td>Very good</td>\n",
              "      <td>7.0</td>\n",
              "      <td>No</td>\n",
              "      <td>No</td>\n",
              "      <td>No</td>\n",
              "    </tr>\n",
              "    <tr>\n",
              "      <th>2</th>\n",
              "      <td>No</td>\n",
              "      <td>26.58</td>\n",
              "      <td>Yes</td>\n",
              "      <td>No</td>\n",
              "      <td>No</td>\n",
              "      <td>20.0</td>\n",
              "      <td>30.0</td>\n",
              "      <td>No</td>\n",
              "      <td>Male</td>\n",
              "      <td>65-69</td>\n",
              "      <td>White</td>\n",
              "      <td>Yes</td>\n",
              "      <td>Yes</td>\n",
              "      <td>Fair</td>\n",
              "      <td>8.0</td>\n",
              "      <td>Yes</td>\n",
              "      <td>No</td>\n",
              "      <td>No</td>\n",
              "    </tr>\n",
              "    <tr>\n",
              "      <th>3</th>\n",
              "      <td>No</td>\n",
              "      <td>24.21</td>\n",
              "      <td>No</td>\n",
              "      <td>No</td>\n",
              "      <td>No</td>\n",
              "      <td>0.0</td>\n",
              "      <td>0.0</td>\n",
              "      <td>No</td>\n",
              "      <td>Female</td>\n",
              "      <td>75-79</td>\n",
              "      <td>White</td>\n",
              "      <td>No</td>\n",
              "      <td>No</td>\n",
              "      <td>Good</td>\n",
              "      <td>6.0</td>\n",
              "      <td>No</td>\n",
              "      <td>No</td>\n",
              "      <td>Yes</td>\n",
              "    </tr>\n",
              "    <tr>\n",
              "      <th>4</th>\n",
              "      <td>No</td>\n",
              "      <td>23.71</td>\n",
              "      <td>No</td>\n",
              "      <td>No</td>\n",
              "      <td>No</td>\n",
              "      <td>28.0</td>\n",
              "      <td>0.0</td>\n",
              "      <td>Yes</td>\n",
              "      <td>Female</td>\n",
              "      <td>40-44</td>\n",
              "      <td>White</td>\n",
              "      <td>No</td>\n",
              "      <td>Yes</td>\n",
              "      <td>Very good</td>\n",
              "      <td>8.0</td>\n",
              "      <td>No</td>\n",
              "      <td>No</td>\n",
              "      <td>No</td>\n",
              "    </tr>\n",
              "  </tbody>\n",
              "</table>\n",
              "</div>\n",
              "      <button class=\"colab-df-convert\" onclick=\"convertToInteractive('df-16058648-eab2-40e6-88df-c77fe19a5fa2')\"\n",
              "              title=\"Convert this dataframe to an interactive table.\"\n",
              "              style=\"display:none;\">\n",
              "        \n",
              "  <svg xmlns=\"http://www.w3.org/2000/svg\" height=\"24px\"viewBox=\"0 0 24 24\"\n",
              "       width=\"24px\">\n",
              "    <path d=\"M0 0h24v24H0V0z\" fill=\"none\"/>\n",
              "    <path d=\"M18.56 5.44l.94 2.06.94-2.06 2.06-.94-2.06-.94-.94-2.06-.94 2.06-2.06.94zm-11 1L8.5 8.5l.94-2.06 2.06-.94-2.06-.94L8.5 2.5l-.94 2.06-2.06.94zm10 10l.94 2.06.94-2.06 2.06-.94-2.06-.94-.94-2.06-.94 2.06-2.06.94z\"/><path d=\"M17.41 7.96l-1.37-1.37c-.4-.4-.92-.59-1.43-.59-.52 0-1.04.2-1.43.59L10.3 9.45l-7.72 7.72c-.78.78-.78 2.05 0 2.83L4 21.41c.39.39.9.59 1.41.59.51 0 1.02-.2 1.41-.59l7.78-7.78 2.81-2.81c.8-.78.8-2.07 0-2.86zM5.41 20L4 18.59l7.72-7.72 1.47 1.35L5.41 20z\"/>\n",
              "  </svg>\n",
              "      </button>\n",
              "      \n",
              "  <style>\n",
              "    .colab-df-container {\n",
              "      display:flex;\n",
              "      flex-wrap:wrap;\n",
              "      gap: 12px;\n",
              "    }\n",
              "\n",
              "    .colab-df-convert {\n",
              "      background-color: #E8F0FE;\n",
              "      border: none;\n",
              "      border-radius: 50%;\n",
              "      cursor: pointer;\n",
              "      display: none;\n",
              "      fill: #1967D2;\n",
              "      height: 32px;\n",
              "      padding: 0 0 0 0;\n",
              "      width: 32px;\n",
              "    }\n",
              "\n",
              "    .colab-df-convert:hover {\n",
              "      background-color: #E2EBFA;\n",
              "      box-shadow: 0px 1px 2px rgba(60, 64, 67, 0.3), 0px 1px 3px 1px rgba(60, 64, 67, 0.15);\n",
              "      fill: #174EA6;\n",
              "    }\n",
              "\n",
              "    [theme=dark] .colab-df-convert {\n",
              "      background-color: #3B4455;\n",
              "      fill: #D2E3FC;\n",
              "    }\n",
              "\n",
              "    [theme=dark] .colab-df-convert:hover {\n",
              "      background-color: #434B5C;\n",
              "      box-shadow: 0px 1px 3px 1px rgba(0, 0, 0, 0.15);\n",
              "      filter: drop-shadow(0px 1px 2px rgba(0, 0, 0, 0.3));\n",
              "      fill: #FFFFFF;\n",
              "    }\n",
              "  </style>\n",
              "\n",
              "      <script>\n",
              "        const buttonEl =\n",
              "          document.querySelector('#df-16058648-eab2-40e6-88df-c77fe19a5fa2 button.colab-df-convert');\n",
              "        buttonEl.style.display =\n",
              "          google.colab.kernel.accessAllowed ? 'block' : 'none';\n",
              "\n",
              "        async function convertToInteractive(key) {\n",
              "          const element = document.querySelector('#df-16058648-eab2-40e6-88df-c77fe19a5fa2');\n",
              "          const dataTable =\n",
              "            await google.colab.kernel.invokeFunction('convertToInteractive',\n",
              "                                                     [key], {});\n",
              "          if (!dataTable) return;\n",
              "\n",
              "          const docLinkHtml = 'Like what you see? Visit the ' +\n",
              "            '<a target=\"_blank\" href=https://colab.research.google.com/notebooks/data_table.ipynb>data table notebook</a>'\n",
              "            + ' to learn more about interactive tables.';\n",
              "          element.innerHTML = '';\n",
              "          dataTable['output_type'] = 'display_data';\n",
              "          await google.colab.output.renderOutput(dataTable, element);\n",
              "          const docLink = document.createElement('div');\n",
              "          docLink.innerHTML = docLinkHtml;\n",
              "          element.appendChild(docLink);\n",
              "        }\n",
              "      </script>\n",
              "    </div>\n",
              "  </div>\n",
              "  "
            ]
          },
          "metadata": {},
          "execution_count": 77
        }
      ],
      "source": [
        "df = pd.read_csv('/gdrive/MyDrive/INDE577/heart.csv')\n",
        "df.head()"
      ]
    },
    {
      "cell_type": "markdown",
      "source": [
        "### Preprocessing"
      ],
      "metadata": {
        "id": "oxPYjMo0InRy"
      }
    },
    {
      "cell_type": "markdown",
      "metadata": {
        "id": "76uzjBJKQUoH"
      },
      "source": [
        "**Binary Variable**: No -> 0, Yes -> 1\n",
        "\n",
        "**Multi-level Categorical Variable**: One Hot Encoding"
      ]
    },
    {
      "cell_type": "code",
      "execution_count": null,
      "metadata": {
        "id": "F9r-OxM3MYBK"
      },
      "outputs": [],
      "source": [
        "def cate_encoding(df, binary_vars, multi_vars):\n",
        "\n",
        "  # change special values in some columns\n",
        "  df['Diabetic'] =  df['Diabetic'].replace({'No, borderline diabetes':0,'Yes (during pregnancy)':1,'No':0,'Yes':1})\n",
        "  df['Sex'] = df['Sex'].map({'Male':0,'Female':1})\n",
        "  \n",
        "  # encode binary variables\n",
        "  for var in binary_vars:\n",
        "    df[var] = df[var].map({'No':0,'Yes':1})\n",
        "\n",
        "  # encode categorical variables having more than 2 levels\n",
        "\n",
        "  # age is an ordinal variable, using one hot encoding results in too many variables\n",
        "  age_values = sorted(df['AgeCategory'].unique())\n",
        "  age_dict = {key: value for key, value in zip(age_values, list(range(13)))}  \n",
        "  df['AgeCategory'] = df['AgeCategory'].map(age_dict)\n",
        "\n",
        "  # encode race and genhealth\n",
        "  encoded_categ = pd.get_dummies(df[['Race', 'GenHealth']])\n",
        "  # drop base levels: white and poor\n",
        "  encoded_categ.drop(['GenHealth_Poor','Race_White'], axis = 1, inplace = True)\n",
        "  # concat back\n",
        "  df = pd.concat([df, encoded_categ], axis = 1)\n",
        "\n",
        "  # dropping the original categorical features\n",
        "  df.drop(columns = ['Race', 'GenHealth'], axis = 1, inplace = True)\n",
        "\n",
        "  return df"
      ]
    },
    {
      "cell_type": "code",
      "execution_count": null,
      "metadata": {
        "colab": {
          "base_uri": "https://localhost:8080/",
          "height": 334
        },
        "id": "NnzsdKhxTD4H",
        "outputId": "11f83d75-1d0e-41d7-9e6c-c40537c4c887"
      },
      "outputs": [
        {
          "output_type": "execute_result",
          "data": {
            "text/plain": [
              "   HeartDisease    BMI  Smoking  AlcoholDrinking  Stroke  PhysicalHealth  \\\n",
              "0             0  16.60        1                0       0             3.0   \n",
              "1             0  20.34        0                0       1             0.0   \n",
              "2             0  26.58        1                0       0            20.0   \n",
              "3             0  24.21        0                0       0             0.0   \n",
              "4             0  23.71        0                0       0            28.0   \n",
              "\n",
              "   MentalHealth  DiffWalking  Sex  AgeCategory  ...  SkinCancer  \\\n",
              "0          30.0            0    1            7  ...           1   \n",
              "1           0.0            0    1           12  ...           0   \n",
              "2          30.0            0    0            9  ...           0   \n",
              "3           0.0            0    1           11  ...           1   \n",
              "4           0.0            1    1            4  ...           0   \n",
              "\n",
              "   Race_American Indian/Alaskan Native  Race_Asian  Race_Black  Race_Hispanic  \\\n",
              "0                                    0           0           0              0   \n",
              "1                                    0           0           0              0   \n",
              "2                                    0           0           0              0   \n",
              "3                                    0           0           0              0   \n",
              "4                                    0           0           0              0   \n",
              "\n",
              "   Race_Other  GenHealth_Excellent  GenHealth_Fair  GenHealth_Good  \\\n",
              "0           0                    0               0               0   \n",
              "1           0                    0               0               0   \n",
              "2           0                    0               1               0   \n",
              "3           0                    0               0               1   \n",
              "4           0                    0               0               0   \n",
              "\n",
              "   GenHealth_Very good  \n",
              "0                    1  \n",
              "1                    1  \n",
              "2                    0  \n",
              "3                    0  \n",
              "4                    1  \n",
              "\n",
              "[5 rows x 25 columns]"
            ],
            "text/html": [
              "\n",
              "  <div id=\"df-40ad6a2f-085e-4df3-82c1-77a230ff16c7\">\n",
              "    <div class=\"colab-df-container\">\n",
              "      <div>\n",
              "<style scoped>\n",
              "    .dataframe tbody tr th:only-of-type {\n",
              "        vertical-align: middle;\n",
              "    }\n",
              "\n",
              "    .dataframe tbody tr th {\n",
              "        vertical-align: top;\n",
              "    }\n",
              "\n",
              "    .dataframe thead th {\n",
              "        text-align: right;\n",
              "    }\n",
              "</style>\n",
              "<table border=\"1\" class=\"dataframe\">\n",
              "  <thead>\n",
              "    <tr style=\"text-align: right;\">\n",
              "      <th></th>\n",
              "      <th>HeartDisease</th>\n",
              "      <th>BMI</th>\n",
              "      <th>Smoking</th>\n",
              "      <th>AlcoholDrinking</th>\n",
              "      <th>Stroke</th>\n",
              "      <th>PhysicalHealth</th>\n",
              "      <th>MentalHealth</th>\n",
              "      <th>DiffWalking</th>\n",
              "      <th>Sex</th>\n",
              "      <th>AgeCategory</th>\n",
              "      <th>...</th>\n",
              "      <th>SkinCancer</th>\n",
              "      <th>Race_American Indian/Alaskan Native</th>\n",
              "      <th>Race_Asian</th>\n",
              "      <th>Race_Black</th>\n",
              "      <th>Race_Hispanic</th>\n",
              "      <th>Race_Other</th>\n",
              "      <th>GenHealth_Excellent</th>\n",
              "      <th>GenHealth_Fair</th>\n",
              "      <th>GenHealth_Good</th>\n",
              "      <th>GenHealth_Very good</th>\n",
              "    </tr>\n",
              "  </thead>\n",
              "  <tbody>\n",
              "    <tr>\n",
              "      <th>0</th>\n",
              "      <td>0</td>\n",
              "      <td>16.60</td>\n",
              "      <td>1</td>\n",
              "      <td>0</td>\n",
              "      <td>0</td>\n",
              "      <td>3.0</td>\n",
              "      <td>30.0</td>\n",
              "      <td>0</td>\n",
              "      <td>1</td>\n",
              "      <td>7</td>\n",
              "      <td>...</td>\n",
              "      <td>1</td>\n",
              "      <td>0</td>\n",
              "      <td>0</td>\n",
              "      <td>0</td>\n",
              "      <td>0</td>\n",
              "      <td>0</td>\n",
              "      <td>0</td>\n",
              "      <td>0</td>\n",
              "      <td>0</td>\n",
              "      <td>1</td>\n",
              "    </tr>\n",
              "    <tr>\n",
              "      <th>1</th>\n",
              "      <td>0</td>\n",
              "      <td>20.34</td>\n",
              "      <td>0</td>\n",
              "      <td>0</td>\n",
              "      <td>1</td>\n",
              "      <td>0.0</td>\n",
              "      <td>0.0</td>\n",
              "      <td>0</td>\n",
              "      <td>1</td>\n",
              "      <td>12</td>\n",
              "      <td>...</td>\n",
              "      <td>0</td>\n",
              "      <td>0</td>\n",
              "      <td>0</td>\n",
              "      <td>0</td>\n",
              "      <td>0</td>\n",
              "      <td>0</td>\n",
              "      <td>0</td>\n",
              "      <td>0</td>\n",
              "      <td>0</td>\n",
              "      <td>1</td>\n",
              "    </tr>\n",
              "    <tr>\n",
              "      <th>2</th>\n",
              "      <td>0</td>\n",
              "      <td>26.58</td>\n",
              "      <td>1</td>\n",
              "      <td>0</td>\n",
              "      <td>0</td>\n",
              "      <td>20.0</td>\n",
              "      <td>30.0</td>\n",
              "      <td>0</td>\n",
              "      <td>0</td>\n",
              "      <td>9</td>\n",
              "      <td>...</td>\n",
              "      <td>0</td>\n",
              "      <td>0</td>\n",
              "      <td>0</td>\n",
              "      <td>0</td>\n",
              "      <td>0</td>\n",
              "      <td>0</td>\n",
              "      <td>0</td>\n",
              "      <td>1</td>\n",
              "      <td>0</td>\n",
              "      <td>0</td>\n",
              "    </tr>\n",
              "    <tr>\n",
              "      <th>3</th>\n",
              "      <td>0</td>\n",
              "      <td>24.21</td>\n",
              "      <td>0</td>\n",
              "      <td>0</td>\n",
              "      <td>0</td>\n",
              "      <td>0.0</td>\n",
              "      <td>0.0</td>\n",
              "      <td>0</td>\n",
              "      <td>1</td>\n",
              "      <td>11</td>\n",
              "      <td>...</td>\n",
              "      <td>1</td>\n",
              "      <td>0</td>\n",
              "      <td>0</td>\n",
              "      <td>0</td>\n",
              "      <td>0</td>\n",
              "      <td>0</td>\n",
              "      <td>0</td>\n",
              "      <td>0</td>\n",
              "      <td>1</td>\n",
              "      <td>0</td>\n",
              "    </tr>\n",
              "    <tr>\n",
              "      <th>4</th>\n",
              "      <td>0</td>\n",
              "      <td>23.71</td>\n",
              "      <td>0</td>\n",
              "      <td>0</td>\n",
              "      <td>0</td>\n",
              "      <td>28.0</td>\n",
              "      <td>0.0</td>\n",
              "      <td>1</td>\n",
              "      <td>1</td>\n",
              "      <td>4</td>\n",
              "      <td>...</td>\n",
              "      <td>0</td>\n",
              "      <td>0</td>\n",
              "      <td>0</td>\n",
              "      <td>0</td>\n",
              "      <td>0</td>\n",
              "      <td>0</td>\n",
              "      <td>0</td>\n",
              "      <td>0</td>\n",
              "      <td>0</td>\n",
              "      <td>1</td>\n",
              "    </tr>\n",
              "  </tbody>\n",
              "</table>\n",
              "<p>5 rows × 25 columns</p>\n",
              "</div>\n",
              "      <button class=\"colab-df-convert\" onclick=\"convertToInteractive('df-40ad6a2f-085e-4df3-82c1-77a230ff16c7')\"\n",
              "              title=\"Convert this dataframe to an interactive table.\"\n",
              "              style=\"display:none;\">\n",
              "        \n",
              "  <svg xmlns=\"http://www.w3.org/2000/svg\" height=\"24px\"viewBox=\"0 0 24 24\"\n",
              "       width=\"24px\">\n",
              "    <path d=\"M0 0h24v24H0V0z\" fill=\"none\"/>\n",
              "    <path d=\"M18.56 5.44l.94 2.06.94-2.06 2.06-.94-2.06-.94-.94-2.06-.94 2.06-2.06.94zm-11 1L8.5 8.5l.94-2.06 2.06-.94-2.06-.94L8.5 2.5l-.94 2.06-2.06.94zm10 10l.94 2.06.94-2.06 2.06-.94-2.06-.94-.94-2.06-.94 2.06-2.06.94z\"/><path d=\"M17.41 7.96l-1.37-1.37c-.4-.4-.92-.59-1.43-.59-.52 0-1.04.2-1.43.59L10.3 9.45l-7.72 7.72c-.78.78-.78 2.05 0 2.83L4 21.41c.39.39.9.59 1.41.59.51 0 1.02-.2 1.41-.59l7.78-7.78 2.81-2.81c.8-.78.8-2.07 0-2.86zM5.41 20L4 18.59l7.72-7.72 1.47 1.35L5.41 20z\"/>\n",
              "  </svg>\n",
              "      </button>\n",
              "      \n",
              "  <style>\n",
              "    .colab-df-container {\n",
              "      display:flex;\n",
              "      flex-wrap:wrap;\n",
              "      gap: 12px;\n",
              "    }\n",
              "\n",
              "    .colab-df-convert {\n",
              "      background-color: #E8F0FE;\n",
              "      border: none;\n",
              "      border-radius: 50%;\n",
              "      cursor: pointer;\n",
              "      display: none;\n",
              "      fill: #1967D2;\n",
              "      height: 32px;\n",
              "      padding: 0 0 0 0;\n",
              "      width: 32px;\n",
              "    }\n",
              "\n",
              "    .colab-df-convert:hover {\n",
              "      background-color: #E2EBFA;\n",
              "      box-shadow: 0px 1px 2px rgba(60, 64, 67, 0.3), 0px 1px 3px 1px rgba(60, 64, 67, 0.15);\n",
              "      fill: #174EA6;\n",
              "    }\n",
              "\n",
              "    [theme=dark] .colab-df-convert {\n",
              "      background-color: #3B4455;\n",
              "      fill: #D2E3FC;\n",
              "    }\n",
              "\n",
              "    [theme=dark] .colab-df-convert:hover {\n",
              "      background-color: #434B5C;\n",
              "      box-shadow: 0px 1px 3px 1px rgba(0, 0, 0, 0.15);\n",
              "      filter: drop-shadow(0px 1px 2px rgba(0, 0, 0, 0.3));\n",
              "      fill: #FFFFFF;\n",
              "    }\n",
              "  </style>\n",
              "\n",
              "      <script>\n",
              "        const buttonEl =\n",
              "          document.querySelector('#df-40ad6a2f-085e-4df3-82c1-77a230ff16c7 button.colab-df-convert');\n",
              "        buttonEl.style.display =\n",
              "          google.colab.kernel.accessAllowed ? 'block' : 'none';\n",
              "\n",
              "        async function convertToInteractive(key) {\n",
              "          const element = document.querySelector('#df-40ad6a2f-085e-4df3-82c1-77a230ff16c7');\n",
              "          const dataTable =\n",
              "            await google.colab.kernel.invokeFunction('convertToInteractive',\n",
              "                                                     [key], {});\n",
              "          if (!dataTable) return;\n",
              "\n",
              "          const docLinkHtml = 'Like what you see? Visit the ' +\n",
              "            '<a target=\"_blank\" href=https://colab.research.google.com/notebooks/data_table.ipynb>data table notebook</a>'\n",
              "            + ' to learn more about interactive tables.';\n",
              "          element.innerHTML = '';\n",
              "          dataTable['output_type'] = 'display_data';\n",
              "          await google.colab.output.renderOutput(dataTable, element);\n",
              "          const docLink = document.createElement('div');\n",
              "          docLink.innerHTML = docLinkHtml;\n",
              "          element.appendChild(docLink);\n",
              "        }\n",
              "      </script>\n",
              "    </div>\n",
              "  </div>\n",
              "  "
            ]
          },
          "metadata": {},
          "execution_count": 79
        }
      ],
      "source": [
        "binary_vars = ['HeartDisease','Smoking','AlcoholDrinking','Stroke','DiffWalking',\n",
        "               'PhysicalActivity','Asthma','KidneyDisease','SkinCancer']\n",
        "multi_vars = ['Race', 'GenHealth']\n",
        "df = cate_encoding(df, binary_vars, multi_vars)\n",
        "df.head()"
      ]
    },
    {
      "cell_type": "code",
      "source": [
        "df = pd.read_csv('/gdrive/MyDrive/INDE577/heart.csv')\n",
        "\n",
        "var_lst = binary_vars + multi_vars\n",
        "fig, axes = plt.subplots(3,4, figsize = (20,15))\n",
        "\n",
        "for i in range(3):\n",
        "  for j in range(4):\n",
        "\n",
        "    if (4*i+j) == 11:\n",
        "      break\n",
        "\n",
        "    sns.countplot(x=var_lst[(4*i+j)], hue=\"HeartDisease\", data=df, ax=axes[i,j])\n",
        "    axes[i,j].set_title(var_lst[(4*i+j)])\n",
        "    #axes[i,j].get_xaxis().set_visible(False)\n",
        "\n",
        "    # rotate xlabels to avoid overlapping\n",
        "    xlabels = axes[i,j].get_xticklabels()\n",
        "    axes[i,j].set_xticklabels(xlabels, Rotation=90)\n",
        "\n",
        "fig.tight_layout()\n",
        "plt.show()"
      ],
      "metadata": {
        "colab": {
          "base_uri": "https://localhost:8080/",
          "height": 778
        },
        "id": "cBpmVeLNMzjw",
        "outputId": "ddbaa9fb-653c-476d-e182-449a90f814d9"
      },
      "execution_count": null,
      "outputs": [
        {
          "output_type": "display_data",
          "data": {
            "text/plain": [
              "<Figure size 1440x1080 with 12 Axes>"
            ],
            "image/png": "[encoded data removed]"
          },
          "metadata": {
            "needs_background": "light"
          }
        }
      ]
    },
    {
      "cell_type": "markdown",
      "source": [
        "### Logistic Regression (with Python Package)"
      ],
      "metadata": {
        "id": "Cf1lLlkjIrj-"
      }
    },
    {
      "cell_type": "markdown",
      "source": [
        "\n",
        "Note that in the exploratory analysis, we found that our target variable is HeartDisease, the positive samples are significantly fewer than the negative ones. We may try oversampling or undersampling techniques to deal with this imbalanced dataset.\n",
        "\n",
        "Note that even if we use oversampling, we still want to test the model on an original, imbalanced test set! (as the model will be used for prediction in this way and it should have learnt to pick up features of rare positive cases)"
      ],
      "metadata": {
        "id": "pHKQq_ckI4HA"
      }
    },
    {
      "cell_type": "code",
      "source": [
        "import statsmodels.api as sm\n",
        "from imblearn.over_sampling import SMOTE\n",
        "from sklearn.model_selection import train_test_split\n",
        "from sklearn.linear_model import LogisticRegression\n",
        "from sklearn.metrics import confusion_matrix\n",
        "from sklearn.metrics import roc_auc_score\n",
        "from sklearn.metrics import roc_curve\n",
        "from sklearn.metrics import classification_report"
      ],
      "metadata": {
        "id": "Nagp1m3tJZam"
      },
      "execution_count": null,
      "outputs": []
    },
    {
      "cell_type": "markdown",
      "metadata": {
        "id": "vCL2YvUVfnhs"
      },
      "source": [
        "#### If I use SMOTE"
      ]
    },
    {
      "cell_type": "code",
      "execution_count": null,
      "metadata": {
        "colab": {
          "base_uri": "https://localhost:8080/"
        },
        "id": "KejR9ZELsBGI",
        "outputId": "746851f3-9630-4fe4-9805-44d2ccefe6c9"
      },
      "outputs": [
        {
          "output_type": "stream",
          "name": "stdout",
          "text": [
            "We have  8.5595 % positive samples in our data.\n",
            "length of oversampled data is  409384\n",
            "Number of HeartDisease in oversampled data 204692\n",
            "Proportion of no HeartDisease data in oversampled data is  0.5\n",
            "Proportion of HeartDisease data in oversampled data is  0.5\n"
          ]
        }
      ],
      "source": [
        "# HeartDisease: No: 292422; Yes:27373\n",
        "y = df['HeartDisease']\n",
        "X = df.drop('HeartDisease', axis=1)\n",
        "\n",
        "print('We have ', round(y.value_counts(normalize = True)[1] * 100, 4), '% positive samples in our data.')\n",
        "os = SMOTE(random_state=0)\n",
        "X_train, X_test, y_train, y_test = train_test_split(X, y, test_size=0.3, random_state=0)\n",
        "columns = X_train.columns\n",
        "os_data_X, os_data_y = os.fit_resample(X_train, y_train)\n",
        "os_data_X = pd.DataFrame(data = os_data_X, columns = columns)\n",
        "\n",
        "# we can Check the numbers of our data\n",
        "print(\"length of oversampled data is \",len(os_data_X))\n",
        "print(\"Number of HeartDisease in oversampled data\", len(os_data_y[os_data_y==1]))\n",
        "print(\"Proportion of no HeartDisease data in oversampled data is \",len(os_data_y[os_data_y==0])/len(os_data_X))\n",
        "print(\"Proportion of HeartDisease data in oversampled data is \",len(os_data_y[os_data_y==1])/len(os_data_X))"
      ]
    },
    {
      "cell_type": "code",
      "execution_count": null,
      "metadata": {
        "colab": {
          "base_uri": "https://localhost:8080/"
        },
        "id": "PSmCwpWNyjAK",
        "outputId": "3e58ca7f-438e-4532-b168-7f6820a544ef"
      },
      "outputs": [
        {
          "output_type": "stream",
          "name": "stdout",
          "text": [
            "Optimization terminated successfully.\n",
            "         Current function value: 0.397965\n",
            "         Iterations 7\n",
            "                           Logit Regression Results                           \n",
            "==============================================================================\n",
            "Dep. Variable:           HeartDisease   No. Observations:               409384\n",
            "Model:                          Logit   Df Residuals:                   409359\n",
            "Method:                           MLE   Df Model:                           24\n",
            "Date:                Sat, 16 Apr 2022   Pseudo R-squ.:                  0.4259\n",
            "Time:                        22:09:52   Log-Likelihood:            -1.6292e+05\n",
            "converged:                       True   LL-Null:                   -2.8376e+05\n",
            "Covariance Type:            nonrobust   LLR p-value:                     0.000\n",
            "=======================================================================================================\n",
            "                                          coef    std err          z      P>|z|      [0.025      0.975]\n",
            "-------------------------------------------------------------------------------------------------------\n",
            "const                                   1.9167      0.042     46.171      0.000       1.835       1.998\n",
            "BMI                                     0.0116      0.001     15.225      0.000       0.010       0.013\n",
            "Smoking                                -0.1264      0.009    -14.099      0.000      -0.144      -0.109\n",
            "AlcoholDrinking                        -1.8234      0.032    -57.237      0.000      -1.886      -1.761\n",
            "Stroke                                  0.1734      0.022      7.809      0.000       0.130       0.217\n",
            "PhysicalHealth                         -0.0185      0.001    -29.001      0.000      -0.020      -0.017\n",
            "MentalHealth                           -0.0017      0.001     -2.679      0.007      -0.003      -0.000\n",
            "DiffWalking                            -0.4701      0.014    -34.267      0.000      -0.497      -0.443\n",
            "Sex                                    -1.3990      0.009   -148.018      0.000      -1.418      -1.380\n",
            "AgeCategory                             0.3280      0.002    181.427      0.000       0.324       0.332\n",
            "Diabetic                               -0.1366      0.012    -11.065      0.000      -0.161      -0.112\n",
            "PhysicalActivity                       -0.4872      0.010    -47.056      0.000      -0.508      -0.467\n",
            "SleepTime                              -0.0297      0.003     -9.437      0.000      -0.036      -0.024\n",
            "Asthma                                 -0.5970      0.016    -38.080      0.000      -0.628      -0.566\n",
            "KidneyDisease                          -0.4732      0.023    -20.247      0.000      -0.519      -0.427\n",
            "SkinCancer                             -0.6906      0.014    -47.896      0.000      -0.719      -0.662\n",
            "Race_American Indian/Alaskan Native    -1.7851      0.056    -31.889      0.000      -1.895      -1.675\n",
            "Race_Asian                             -2.5822      0.070    -36.973      0.000      -2.719      -2.445\n",
            "Race_Black                             -1.8191      0.026    -70.095      0.000      -1.870      -1.768\n",
            "Race_Hispanic                          -1.8083      0.027    -67.047      0.000      -1.861      -1.755\n",
            "Race_Other                             -1.7914      0.041    -43.604      0.000      -1.872      -1.711\n",
            "GenHealth_Excellent                    -4.9340      0.025   -194.365      0.000      -4.984      -4.884\n",
            "GenHealth_Fair                         -2.3523      0.020   -115.796      0.000      -2.392      -2.312\n",
            "GenHealth_Good                         -3.2496      0.021   -155.898      0.000      -3.291      -3.209\n",
            "GenHealth_Very good                    -4.1312      0.022   -187.608      0.000      -4.174      -4.088\n",
            "=======================================================================================================\n"
          ]
        }
      ],
      "source": [
        "os_data_X = sm.add_constant(os_data_X)\n",
        "logit_model=sm.Logit(os_data_y,os_data_X).fit()\n",
        "print(logit_model.summary())"
      ]
    },
    {
      "cell_type": "markdown",
      "metadata": {
        "id": "sESrjY311lK7"
      },
      "source": [
        "It seems that smoking, alcodrinking, diffwalking, and several diseases like asthma and kidneyDieseas, skincancer might **have reversed signs** in our estimates. This maybe due to high correlation among variables. But this also reminds me to double check the definition of variables - some diseases (like kidneyDieseas, skincancer, stroke) may have a relative high rate of co-occrence with heart disease, and another variable DiffWalking (do you have difficulty walking or climing stairs) seems to be a result of heartdisease. \n",
        "\n",
        "Therefore, as our objective is to 'predict' if a person is highly likely to have heart disease (in future) based on lifestyles, we may not want to include these 'other disease' and 'result of heart disease' varaibles in our analysis as it may lead to leakage of information. It is better to remove these variables from analysis. See the next section - **'Remove some variables'** for analysis after removing these variables."
      ]
    },
    {
      "cell_type": "code",
      "execution_count": null,
      "metadata": {
        "colab": {
          "base_uri": "https://localhost:8080/",
          "height": 322
        },
        "id": "NPrRwSrwz5Je",
        "outputId": "0b903f70-1baf-4428-f2eb-52d20b434f1e"
      },
      "outputs": [
        {
          "output_type": "stream",
          "name": "stdout",
          "text": [
            "Accuracy of logistic regression classifier on test set: 0.79\n"
          ]
        },
        {
          "output_type": "display_data",
          "data": {
            "text/plain": [
              "<Figure size 360x288 with 2 Axes>"
            ],
            "image/png": "[encoded data removed]"
          },
          "metadata": {}
        }
      ],
      "source": [
        "X_test = sm.add_constant(X_test)\n",
        "logreg = LogisticRegression()\n",
        "logreg.fit(os_data_X,os_data_y)\n",
        "y_pred = logreg.predict(X_test)\n",
        "print('Accuracy of logistic regression classifier on test set: {:.2f}'.format(logreg.score(X_test, y_test)))\n",
        "\n",
        "confusion_matrix = confusion_matrix(y_test, y_pred)\n",
        "matrix_df = pd.DataFrame(confusion_matrix)\n",
        "\n",
        "plt.figure(figsize=(5,4))\n",
        "ax=plt.axes()\n",
        "sns.set(font_scale=1.3)\n",
        "\n",
        "sns.heatmap(matrix_df, annot=True, fmt='g', ax=ax, cmap='magma')\n",
        "ax.set_title('Confusion Matrix of Logistic Regression')\n",
        "ax.set_xlabel('predicted label', fontsize=10)\n",
        "ax.set_ylabel('True label', fontsize=10)\n",
        "plt.show()"
      ]
    },
    {
      "cell_type": "code",
      "execution_count": null,
      "metadata": {
        "colab": {
          "base_uri": "https://localhost:8080/"
        },
        "id": "mSrqL3av0yH2",
        "outputId": "64fb4de5-c2a3-4d82-d7df-33a2011ae19d"
      },
      "outputs": [
        {
          "output_type": "stream",
          "name": "stdout",
          "text": [
            "              precision    recall  f1-score   support\n",
            "\n",
            "           0       0.95      0.81      0.87     87730\n",
            "           1       0.22      0.58      0.32      8209\n",
            "\n",
            "    accuracy                           0.79     95939\n",
            "   macro avg       0.59      0.70      0.60     95939\n",
            "weighted avg       0.89      0.79      0.83     95939\n",
            "\n"
          ]
        }
      ],
      "source": [
        "print(classification_report(y_test, y_pred))"
      ]
    },
    {
      "cell_type": "code",
      "execution_count": null,
      "metadata": {
        "colab": {
          "base_uri": "https://localhost:8080/",
          "height": 295
        },
        "id": "Ay5d9Bea1AbI",
        "outputId": "6f14af1b-575b-4e51-8af7-2a7816ec4ded"
      },
      "outputs": [
        {
          "data": {
            "image/png": "[encoded data removed]",
            "text/plain": [
              "<Figure size 432x288 with 1 Axes>"
            ]
          },
          "metadata": {},
          "output_type": "display_data"
        }
      ],
      "source": [
        "logit_roc_auc = roc_auc_score(y_test, logreg.predict(X_test))\n",
        "fpr, tpr, thresholds = roc_curve(y_test, logreg.predict_proba(X_test)[:,1])\n",
        "plt.figure()\n",
        "plt.plot(fpr, tpr, label='Logistic Regression (area = %0.2f)' % logit_roc_auc)\n",
        "plt.plot([0, 1], [0, 1],'r--')\n",
        "plt.xlim([0.0, 1.0])\n",
        "plt.ylim([0.0, 1.05])\n",
        "plt.xlabel('False Positive Rate')\n",
        "plt.ylabel('True Positive Rate')\n",
        "plt.title('Receiver operating characteristic')\n",
        "plt.legend(loc=\"lower right\")\n",
        "plt.savefig('Log_ROC')\n",
        "plt.show()"
      ]
    },
    {
      "cell_type": "markdown",
      "source": [
        "#### Remove some variables"
      ],
      "metadata": {
        "id": "2oDDqGyxPiLk"
      }
    },
    {
      "cell_type": "code",
      "execution_count": null,
      "metadata": {
        "id": "c_O4DlNCRPnm"
      },
      "outputs": [],
      "source": [
        "def cate_encoding(df, binary_vars):\n",
        "\n",
        "  # change special values in some columns\n",
        "  df['Diabetic'] =  df['Diabetic'].replace({'No, borderline diabetes':0,'Yes (during pregnancy)':1,'No':0,'Yes':1})\n",
        "  df['Sex'] = df['Sex'].map({'Male':0,'Female':1})\n",
        "  \n",
        "  # encode binary variables\n",
        "  for var in binary_vars:\n",
        "    df[var] = df[var].map({'No':0,'Yes':1})\n",
        "\n",
        "  # encode categorical variables having more than 2 levels\n",
        "\n",
        "  # age is an ordinal variable, using one hot encoding results in too many variables\n",
        "  age_values = sorted(df['AgeCategory'].unique())\n",
        "  age_dict = {key: value for key, value in zip(age_values, list(range(13)))}  \n",
        "  df['AgeCategory'] = df['AgeCategory'].map(age_dict)\n",
        "\n",
        "  # dropping the original categorical features\n",
        "  df.drop(columns = ['Race', 'GenHealth'], axis = 1, inplace = True)\n",
        "\n",
        "  return df"
      ]
    },
    {
      "cell_type": "code",
      "source": [
        "df = pd.read_csv('/gdrive/MyDrive/INDE577/heart.csv')\n",
        "df = df[['HeartDisease','BMI','Smoking','AlcoholDrinking','PhysicalHealth','MentalHealth','Sex','AgeCategory','Diabetic','PhysicalActivity','SleepTime','Race', 'GenHealth']]\n",
        "binary_vars = ['HeartDisease','Smoking','AlcoholDrinking','PhysicalActivity']\n",
        "df = cate_encoding(df, binary_vars)\n",
        "df.head()"
      ],
      "metadata": {
        "colab": {
          "base_uri": "https://localhost:8080/",
          "height": 270
        },
        "id": "QWu6zVixPhGp",
        "outputId": "55130df7-52c6-4286-b44e-21010eea1958"
      },
      "execution_count": null,
      "outputs": [
        {
          "output_type": "execute_result",
          "data": {
            "text/plain": [
              "   HeartDisease    BMI  Smoking  AlcoholDrinking  PhysicalHealth  \\\n",
              "0             0  16.60        1                0             3.0   \n",
              "1             0  20.34        0                0             0.0   \n",
              "2             0  26.58        1                0            20.0   \n",
              "3             0  24.21        0                0             0.0   \n",
              "4             0  23.71        0                0            28.0   \n",
              "\n",
              "   MentalHealth  Sex  AgeCategory  Diabetic  PhysicalActivity  SleepTime  \n",
              "0          30.0    1            7         1                 1        5.0  \n",
              "1           0.0    1           12         0                 1        7.0  \n",
              "2          30.0    0            9         1                 1        8.0  \n",
              "3           0.0    1           11         0                 0        6.0  \n",
              "4           0.0    1            4         0                 1        8.0  "
            ],
            "text/html": [
              "\n",
              "  <div id=\"df-7bd6c6c1-efad-44d7-801e-6545a9d15ada\">\n",
              "    <div class=\"colab-df-container\">\n",
              "      <div>\n",
              "<style scoped>\n",
              "    .dataframe tbody tr th:only-of-type {\n",
              "        vertical-align: middle;\n",
              "    }\n",
              "\n",
              "    .dataframe tbody tr th {\n",
              "        vertical-align: top;\n",
              "    }\n",
              "\n",
              "    .dataframe thead th {\n",
              "        text-align: right;\n",
              "    }\n",
              "</style>\n",
              "<table border=\"1\" class=\"dataframe\">\n",
              "  <thead>\n",
              "    <tr style=\"text-align: right;\">\n",
              "      <th></th>\n",
              "      <th>HeartDisease</th>\n",
              "      <th>BMI</th>\n",
              "      <th>Smoking</th>\n",
              "      <th>AlcoholDrinking</th>\n",
              "      <th>PhysicalHealth</th>\n",
              "      <th>MentalHealth</th>\n",
              "      <th>Sex</th>\n",
              "      <th>AgeCategory</th>\n",
              "      <th>Diabetic</th>\n",
              "      <th>PhysicalActivity</th>\n",
              "      <th>SleepTime</th>\n",
              "    </tr>\n",
              "  </thead>\n",
              "  <tbody>\n",
              "    <tr>\n",
              "      <th>0</th>\n",
              "      <td>0</td>\n",
              "      <td>16.60</td>\n",
              "      <td>1</td>\n",
              "      <td>0</td>\n",
              "      <td>3.0</td>\n",
              "      <td>30.0</td>\n",
              "      <td>1</td>\n",
              "      <td>7</td>\n",
              "      <td>1</td>\n",
              "      <td>1</td>\n",
              "      <td>5.0</td>\n",
              "    </tr>\n",
              "    <tr>\n",
              "      <th>1</th>\n",
              "      <td>0</td>\n",
              "      <td>20.34</td>\n",
              "      <td>0</td>\n",
              "      <td>0</td>\n",
              "      <td>0.0</td>\n",
              "      <td>0.0</td>\n",
              "      <td>1</td>\n",
              "      <td>12</td>\n",
              "      <td>0</td>\n",
              "      <td>1</td>\n",
              "      <td>7.0</td>\n",
              "    </tr>\n",
              "    <tr>\n",
              "      <th>2</th>\n",
              "      <td>0</td>\n",
              "      <td>26.58</td>\n",
              "      <td>1</td>\n",
              "      <td>0</td>\n",
              "      <td>20.0</td>\n",
              "      <td>30.0</td>\n",
              "      <td>0</td>\n",
              "      <td>9</td>\n",
              "      <td>1</td>\n",
              "      <td>1</td>\n",
              "      <td>8.0</td>\n",
              "    </tr>\n",
              "    <tr>\n",
              "      <th>3</th>\n",
              "      <td>0</td>\n",
              "      <td>24.21</td>\n",
              "      <td>0</td>\n",
              "      <td>0</td>\n",
              "      <td>0.0</td>\n",
              "      <td>0.0</td>\n",
              "      <td>1</td>\n",
              "      <td>11</td>\n",
              "      <td>0</td>\n",
              "      <td>0</td>\n",
              "      <td>6.0</td>\n",
              "    </tr>\n",
              "    <tr>\n",
              "      <th>4</th>\n",
              "      <td>0</td>\n",
              "      <td>23.71</td>\n",
              "      <td>0</td>\n",
              "      <td>0</td>\n",
              "      <td>28.0</td>\n",
              "      <td>0.0</td>\n",
              "      <td>1</td>\n",
              "      <td>4</td>\n",
              "      <td>0</td>\n",
              "      <td>1</td>\n",
              "      <td>8.0</td>\n",
              "    </tr>\n",
              "  </tbody>\n",
              "</table>\n",
              "</div>\n",
              "      <button class=\"colab-df-convert\" onclick=\"convertToInteractive('df-7bd6c6c1-efad-44d7-801e-6545a9d15ada')\"\n",
              "              title=\"Convert this dataframe to an interactive table.\"\n",
              "              style=\"display:none;\">\n",
              "        \n",
              "  <svg xmlns=\"http://www.w3.org/2000/svg\" height=\"24px\"viewBox=\"0 0 24 24\"\n",
              "       width=\"24px\">\n",
              "    <path d=\"M0 0h24v24H0V0z\" fill=\"none\"/>\n",
              "    <path d=\"M18.56 5.44l.94 2.06.94-2.06 2.06-.94-2.06-.94-.94-2.06-.94 2.06-2.06.94zm-11 1L8.5 8.5l.94-2.06 2.06-.94-2.06-.94L8.5 2.5l-.94 2.06-2.06.94zm10 10l.94 2.06.94-2.06 2.06-.94-2.06-.94-.94-2.06-.94 2.06-2.06.94z\"/><path d=\"M17.41 7.96l-1.37-1.37c-.4-.4-.92-.59-1.43-.59-.52 0-1.04.2-1.43.59L10.3 9.45l-7.72 7.72c-.78.78-.78 2.05 0 2.83L4 21.41c.39.39.9.59 1.41.59.51 0 1.02-.2 1.41-.59l7.78-7.78 2.81-2.81c.8-.78.8-2.07 0-2.86zM5.41 20L4 18.59l7.72-7.72 1.47 1.35L5.41 20z\"/>\n",
              "  </svg>\n",
              "      </button>\n",
              "      \n",
              "  <style>\n",
              "    .colab-df-container {\n",
              "      display:flex;\n",
              "      flex-wrap:wrap;\n",
              "      gap: 12px;\n",
              "    }\n",
              "\n",
              "    .colab-df-convert {\n",
              "      background-color: #E8F0FE;\n",
              "      border: none;\n",
              "      border-radius: 50%;\n",
              "      cursor: pointer;\n",
              "      display: none;\n",
              "      fill: #1967D2;\n",
              "      height: 32px;\n",
              "      padding: 0 0 0 0;\n",
              "      width: 32px;\n",
              "    }\n",
              "\n",
              "    .colab-df-convert:hover {\n",
              "      background-color: #E2EBFA;\n",
              "      box-shadow: 0px 1px 2px rgba(60, 64, 67, 0.3), 0px 1px 3px 1px rgba(60, 64, 67, 0.15);\n",
              "      fill: #174EA6;\n",
              "    }\n",
              "\n",
              "    [theme=dark] .colab-df-convert {\n",
              "      background-color: #3B4455;\n",
              "      fill: #D2E3FC;\n",
              "    }\n",
              "\n",
              "    [theme=dark] .colab-df-convert:hover {\n",
              "      background-color: #434B5C;\n",
              "      box-shadow: 0px 1px 3px 1px rgba(0, 0, 0, 0.15);\n",
              "      filter: drop-shadow(0px 1px 2px rgba(0, 0, 0, 0.3));\n",
              "      fill: #FFFFFF;\n",
              "    }\n",
              "  </style>\n",
              "\n",
              "      <script>\n",
              "        const buttonEl =\n",
              "          document.querySelector('#df-7bd6c6c1-efad-44d7-801e-6545a9d15ada button.colab-df-convert');\n",
              "        buttonEl.style.display =\n",
              "          google.colab.kernel.accessAllowed ? 'block' : 'none';\n",
              "\n",
              "        async function convertToInteractive(key) {\n",
              "          const element = document.querySelector('#df-7bd6c6c1-efad-44d7-801e-6545a9d15ada');\n",
              "          const dataTable =\n",
              "            await google.colab.kernel.invokeFunction('convertToInteractive',\n",
              "                                                     [key], {});\n",
              "          if (!dataTable) return;\n",
              "\n",
              "          const docLinkHtml = 'Like what you see? Visit the ' +\n",
              "            '<a target=\"_blank\" href=https://colab.research.google.com/notebooks/data_table.ipynb>data table notebook</a>'\n",
              "            + ' to learn more about interactive tables.';\n",
              "          element.innerHTML = '';\n",
              "          dataTable['output_type'] = 'display_data';\n",
              "          await google.colab.output.renderOutput(dataTable, element);\n",
              "          const docLink = document.createElement('div');\n",
              "          docLink.innerHTML = docLinkHtml;\n",
              "          element.appendChild(docLink);\n",
              "        }\n",
              "      </script>\n",
              "    </div>\n",
              "  </div>\n",
              "  "
            ]
          },
          "metadata": {},
          "execution_count": 105
        }
      ]
    },
    {
      "cell_type": "code",
      "execution_count": null,
      "metadata": {
        "colab": {
          "base_uri": "https://localhost:8080/"
        },
        "outputId": "014b5883-7796-48f3-823f-787fa634b2df",
        "id": "3Fq_TiDiQ7gV"
      },
      "outputs": [
        {
          "output_type": "stream",
          "name": "stdout",
          "text": [
            "We have  8.5595 % positive samples in our data.\n",
            "length of oversampled data is  409384\n",
            "Number of HeartDisease in oversampled data 204692\n",
            "Proportion of no HeartDisease data in oversampled data is  0.5\n",
            "Proportion of HeartDisease data in oversampled data is  0.5\n"
          ]
        }
      ],
      "source": [
        "# HeartDisease: No: 292422; Yes:27373\n",
        "y = df['HeartDisease']\n",
        "X = df.drop('HeartDisease', axis=1)\n",
        "\n",
        "print('We have ', round(y.value_counts(normalize = True)[1] * 100, 4), '% positive samples in our data.')\n",
        "os = SMOTE(random_state=0)\n",
        "X_train, X_test, y_train, y_test = train_test_split(X, y, test_size=0.3, random_state=0)\n",
        "columns = X_train.columns\n",
        "os_data_X, os_data_y = os.fit_resample(X_train, y_train)\n",
        "os_data_X = pd.DataFrame(data = os_data_X, columns = columns)\n",
        "\n",
        "# we can Check the numbers of our data\n",
        "print(\"length of oversampled data is \",len(os_data_X))\n",
        "print(\"Number of HeartDisease in oversampled data\", len(os_data_y[os_data_y==1]))\n",
        "print(\"Proportion of no HeartDisease data in oversampled data is \",len(os_data_y[os_data_y==0])/len(os_data_X))\n",
        "print(\"Proportion of HeartDisease data in oversampled data is \",len(os_data_y[os_data_y==1])/len(os_data_X))"
      ]
    },
    {
      "cell_type": "code",
      "source": [
        "# save data files to be used by other models\n",
        "os_data_X.to_csv('SMOTE_training_x.csv', index = False)\n",
        "os_data_y.to_csv('SMOTE_training_y.csv', index = False)\n",
        "X_test.to_csv('x_test.csv', index = False)\n",
        "y_test.to_csv('y_test.csv', index = False)"
      ],
      "metadata": {
        "id": "eOoFyYHMeJlr"
      },
      "execution_count": null,
      "outputs": []
    },
    {
      "cell_type": "code",
      "execution_count": null,
      "metadata": {
        "colab": {
          "base_uri": "https://localhost:8080/"
        },
        "outputId": "26f92e05-96b6-442c-dbf3-fefe78fe8671",
        "id": "Idm34GK3Q7gW"
      },
      "outputs": [
        {
          "output_type": "stream",
          "name": "stdout",
          "text": [
            "Optimization terminated successfully.\n",
            "         Current function value: 0.513032\n",
            "         Iterations 6\n",
            "                           Logit Regression Results                           \n",
            "==============================================================================\n",
            "Dep. Variable:           HeartDisease   No. Observations:               409384\n",
            "Model:                          Logit   Df Residuals:                   409373\n",
            "Method:                           MLE   Df Model:                           10\n",
            "Date:                Sat, 16 Apr 2022   Pseudo R-squ.:                  0.2599\n",
            "Time:                        22:11:56   Log-Likelihood:            -2.1003e+05\n",
            "converged:                       True   LL-Null:                   -2.8376e+05\n",
            "Covariance Type:            nonrobust   LLR p-value:                     0.000\n",
            "====================================================================================\n",
            "                       coef    std err          z      P>|z|      [0.025      0.975]\n",
            "------------------------------------------------------------------------------------\n",
            "const               -2.2265      0.031    -72.473      0.000      -2.287      -2.166\n",
            "BMI                  0.0219      0.001     35.046      0.000       0.021       0.023\n",
            "Smoking              0.1064      0.008     13.831      0.000       0.091       0.122\n",
            "AlcoholDrinking     -1.8351      0.027    -67.099      0.000      -1.889      -1.781\n",
            "PhysicalHealth       0.0348      0.000     77.679      0.000       0.034       0.036\n",
            "MentalHealth         0.0209      0.001     41.118      0.000       0.020       0.022\n",
            "Sex                 -1.2779      0.008   -160.165      0.000      -1.294      -1.262\n",
            "AgeCategory          0.3301      0.001    227.251      0.000       0.327       0.333\n",
            "Diabetic             0.1348      0.010     13.092      0.000       0.115       0.155\n",
            "PhysicalActivity    -0.7030      0.009    -80.969      0.000      -0.720      -0.686\n",
            "SleepTime           -0.0398      0.003    -15.476      0.000      -0.045      -0.035\n",
            "====================================================================================\n"
          ]
        }
      ],
      "source": [
        "os_data_X = sm.add_constant(os_data_X)\n",
        "logit_model=sm.Logit(os_data_y,os_data_X).fit()\n",
        "print(logit_model.summary())"
      ]
    },
    {
      "cell_type": "markdown",
      "source": [
        "Now the signs of coefficient estimates makes sense for me (note that definition of PhysicalHealth and MentalHealth is number of days in last 30 days that health **is not good**, and it should have a positive coefficient.).\n",
        "\n",
        "The only thing that attract my attention is AlcoholDrinking - but I found information online that 'people who drank moderate amounts of alcohol (less than two drinks a day most days) had about a 20% lower risk of dying from heart disease'. However, this could also be because there are some unobserved confounders not included in our analysis and therefore lead to reversed sign of our estimate."
      ],
      "metadata": {
        "id": "mD6NDZcHVD6E"
      }
    },
    {
      "cell_type": "code",
      "execution_count": null,
      "metadata": {
        "colab": {
          "base_uri": "https://localhost:8080/",
          "height": 322
        },
        "outputId": "59b39010-2d4a-4aea-fd03-57e943feea26",
        "id": "liSWzHqaWENQ"
      },
      "outputs": [
        {
          "output_type": "stream",
          "name": "stdout",
          "text": [
            "Accuracy of logistic regression classifier on test set: 0.72\n"
          ]
        },
        {
          "output_type": "display_data",
          "data": {
            "text/plain": [
              "<Figure size 360x288 with 2 Axes>"
            ],
            "image/png": "[encoded data removed]"
          },
          "metadata": {}
        }
      ],
      "source": [
        "X_test = sm.add_constant(X_test)\n",
        "logreg = LogisticRegression()\n",
        "logreg.fit(os_data_X,os_data_y)\n",
        "y_pred = logreg.predict(X_test)\n",
        "print('Accuracy of logistic regression classifier on test set: {:.2f}'.format(logreg.score(X_test, y_test)))\n",
        "\n",
        "confusion_matrix = confusion_matrix(y_test, y_pred)\n",
        "matrix_df = pd.DataFrame(confusion_matrix)\n",
        "\n",
        "plt.figure(figsize=(5,4))\n",
        "ax=plt.axes()\n",
        "sns.set(font_scale=1.3)\n",
        "\n",
        "sns.heatmap(matrix_df, annot=True, fmt='g', ax=ax, cmap='magma')\n",
        "ax.set_title('Confusion Matrix of Ensemble Model')\n",
        "ax.set_xlabel('predicted label', fontsize=10)\n",
        "ax.set_ylabel('True label', fontsize=10)\n",
        "plt.show()"
      ]
    },
    {
      "cell_type": "code",
      "execution_count": null,
      "metadata": {
        "colab": {
          "base_uri": "https://localhost:8080/"
        },
        "outputId": "bd3500b0-fbab-4f29-f469-0a753aa2f502",
        "id": "W8GkrNHwWENQ"
      },
      "outputs": [
        {
          "output_type": "stream",
          "name": "stdout",
          "text": [
            "              precision    recall  f1-score   support\n",
            "\n",
            "           0       0.97      0.71      0.82     87730\n",
            "           1       0.19      0.73      0.30      8209\n",
            "\n",
            "    accuracy                           0.72     95939\n",
            "   macro avg       0.58      0.72      0.56     95939\n",
            "weighted avg       0.90      0.72      0.78     95939\n",
            "\n"
          ]
        }
      ],
      "source": [
        "print(classification_report(y_test, y_pred))"
      ]
    },
    {
      "cell_type": "code",
      "execution_count": null,
      "metadata": {
        "colab": {
          "base_uri": "https://localhost:8080/",
          "height": 295
        },
        "outputId": "5502536b-e8a9-4f9c-d7b9-42bf0360bbd3",
        "id": "EB4_-BjZWMyp"
      },
      "outputs": [
        {
          "output_type": "display_data",
          "data": {
            "text/plain": [
              "<Figure size 432x288 with 1 Axes>"
            ],
            "image/png": "[encoded data removed]"
          },
          "metadata": {
            "needs_background": "light"
          }
        }
      ],
      "source": [
        "logit_roc_auc = roc_auc_score(y_test, logreg.predict(X_test))\n",
        "fpr, tpr, thresholds = roc_curve(y_test, logreg.predict_proba(X_test)[:,1])\n",
        "plt.figure()\n",
        "plt.plot(fpr, tpr, label='Logistic Regression (area = %0.2f)' % logit_roc_auc)\n",
        "plt.plot([0, 1], [0, 1],'r--')\n",
        "plt.xlim([0.0, 1.0])\n",
        "plt.ylim([0.0, 1.05])\n",
        "plt.xlabel('False Positive Rate')\n",
        "plt.ylabel('True Positive Rate')\n",
        "plt.title('Receiver operating characteristic')\n",
        "plt.legend(loc=\"lower right\")\n",
        "plt.savefig('Log_ROC')\n",
        "plt.show()"
      ]
    },
    {
      "cell_type": "markdown",
      "source": [
        "We have a slightly higher ROC-AUC of 0.72 compared to 0.70 if not selecting variables. For positive cases, we have a higher recall but a lower precision (This is the tradeoff we usually have to make!). This might be desirable, as our goal is use this prediction to warn people who have a high risk of heart disease to adjust their lifestyles. Failing to warn someone who ends up with heart disease is a more severe kind of mistake than falsely warning someone who is not gonna have a heart disease."
      ],
      "metadata": {
        "id": "q7kCS9BhWaTh"
      }
    },
    {
      "cell_type": "markdown",
      "source": [
        "#### If I do not use SMOTE (With selected variables)"
      ],
      "metadata": {
        "id": "7jFNfHNYJvu9"
      }
    },
    {
      "cell_type": "markdown",
      "source": [
        "We have a relative imbalanced dataset - with positive rate < 10%. We have been using SMOTE to oversample the positive cases, but what if we directly run the model on the original data?"
      ],
      "metadata": {
        "id": "2diUY1y5XWeY"
      }
    },
    {
      "cell_type": "code",
      "execution_count": null,
      "metadata": {
        "id": "nk8Qjn_bYNSR"
      },
      "outputs": [],
      "source": [
        "# HeartDisease: No: 292422; Yes:27373\n",
        "y = df['HeartDisease']\n",
        "X = df.drop('HeartDisease', axis=1)\n",
        "\n",
        "X_train, X_test, y_train, y_test = train_test_split(X, y, test_size=0.3, random_state=0)"
      ]
    },
    {
      "cell_type": "code",
      "execution_count": null,
      "metadata": {
        "colab": {
          "base_uri": "https://localhost:8080/"
        },
        "outputId": "f56e65f7-c528-49cc-d410-813982b248af",
        "id": "0nBP9bWOYNSR"
      },
      "outputs": [
        {
          "output_type": "stream",
          "name": "stdout",
          "text": [
            "Optimization terminated successfully.\n",
            "         Current function value: 0.240149\n",
            "         Iterations 8\n",
            "                           Logit Regression Results                           \n",
            "==============================================================================\n",
            "Dep. Variable:           HeartDisease   No. Observations:               223856\n",
            "Model:                          Logit   Df Residuals:                   223845\n",
            "Method:                           MLE   Df Model:                           10\n",
            "Date:                Sat, 16 Apr 2022   Pseudo R-squ.:                  0.1783\n",
            "Time:                        22:01:49   Log-Likelihood:                -53759.\n",
            "converged:                       True   LL-Null:                       -65424.\n",
            "Covariance Type:            nonrobust   LLR p-value:                     0.000\n",
            "====================================================================================\n",
            "                       coef    std err          z      P>|z|      [0.025      0.975]\n",
            "------------------------------------------------------------------------------------\n",
            "const               -5.3850      0.067    -80.082      0.000      -5.517      -5.253\n",
            "BMI                  0.0210      0.001     16.123      0.000       0.018       0.024\n",
            "Smoking              0.4718      0.017     28.504      0.000       0.439       0.504\n",
            "AlcoholDrinking     -0.3434      0.040     -8.622      0.000      -0.422      -0.265\n",
            "PhysicalHealth       0.0329      0.001     40.321      0.000       0.031       0.035\n",
            "MentalHealth         0.0153      0.001     15.171      0.000       0.013       0.017\n",
            "Sex                 -0.6917      0.017    -41.438      0.000      -0.724      -0.659\n",
            "AgeCategory          0.3140      0.003     92.086      0.000       0.307       0.321\n",
            "Diabetic             0.7003      0.019     37.385      0.000       0.664       0.737\n",
            "PhysicalActivity    -0.1728      0.018     -9.475      0.000      -0.209      -0.137\n",
            "SleepTime           -0.0324      0.005     -6.267      0.000      -0.042      -0.022\n",
            "====================================================================================\n"
          ]
        }
      ],
      "source": [
        "X_train = sm.add_constant(X_train)\n",
        "logit_model=sm.Logit(y_train,X_train).fit()\n",
        "print(logit_model.summary())"
      ]
    },
    {
      "cell_type": "markdown",
      "source": [
        " Let's check the model performance:"
      ],
      "metadata": {
        "id": "Zx19fQNaYNSR"
      }
    },
    {
      "cell_type": "code",
      "execution_count": null,
      "metadata": {
        "colab": {
          "base_uri": "https://localhost:8080/",
          "height": 322
        },
        "outputId": "e41be886-391a-4ee6-fb11-a887cf6db0ed",
        "id": "Iccsuk0JYNSS"
      },
      "outputs": [
        {
          "output_type": "stream",
          "name": "stdout",
          "text": [
            "Accuracy of logistic regression classifier on test set: 0.91\n"
          ]
        },
        {
          "output_type": "display_data",
          "data": {
            "text/plain": [
              "<Figure size 360x288 with 2 Axes>"
            ],
            "image/png": "[encoded data removed]"
          },
          "metadata": {}
        }
      ],
      "source": [
        "X_test = sm.add_constant(X_test)\n",
        "logreg = LogisticRegression()\n",
        "logreg.fit(X_train,y_train)\n",
        "y_pred = logreg.predict(X_test)\n",
        "print('Accuracy of logistic regression classifier on test set: {:.2f}'.format(logreg.score(X_test, y_test)))\n",
        "\n",
        "confusion_matrix = confusion_matrix(list(y_test), list(y_pred))\n",
        "matrix_df = pd.DataFrame(confusion_matrix)\n",
        "\n",
        "plt.figure(figsize=(5,4))\n",
        "ax=plt.axes()\n",
        "sns.set(font_scale=1.3)\n",
        "\n",
        "sns.heatmap(matrix_df, annot=True, fmt='g', ax=ax, cmap='magma')\n",
        "ax.set_title('Confusion Matrix of Logistic Regression')\n",
        "ax.set_xlabel('predicted label', fontsize=10)\n",
        "ax.set_ylabel('True label', fontsize=10)\n",
        "plt.show()"
      ]
    },
    {
      "cell_type": "code",
      "execution_count": null,
      "metadata": {
        "colab": {
          "base_uri": "https://localhost:8080/"
        },
        "outputId": "3d886cc8-2de6-400c-bbf0-935f107a1e07",
        "id": "ItVmwhzXYNSS"
      },
      "outputs": [
        {
          "output_type": "stream",
          "name": "stdout",
          "text": [
            "              precision    recall  f1-score   support\n",
            "\n",
            "           0       0.92      1.00      0.95     87730\n",
            "           1       0.46      0.04      0.08      8209\n",
            "\n",
            "    accuracy                           0.91     95939\n",
            "   macro avg       0.69      0.52      0.52     95939\n",
            "weighted avg       0.88      0.91      0.88     95939\n",
            "\n"
          ]
        }
      ],
      "source": [
        "print(classification_report(y_test, y_pred))"
      ]
    },
    {
      "cell_type": "code",
      "execution_count": null,
      "metadata": {
        "colab": {
          "base_uri": "https://localhost:8080/",
          "height": 309
        },
        "outputId": "bbfabfa5-f27a-43e1-e5df-14f3c44d7342",
        "id": "cjvnzDL8YNSS"
      },
      "outputs": [
        {
          "output_type": "display_data",
          "data": {
            "text/plain": [
              "<Figure size 432x288 with 1 Axes>"
            ],
            "image/png": "[encoded data removed]"
          },
          "metadata": {}
        }
      ],
      "source": [
        "logit_roc_auc = roc_auc_score(y_test, logreg.predict(X_test))\n",
        "fpr, tpr, thresholds = roc_curve(y_test, logreg.predict_proba(X_test)[:,1])\n",
        "plt.figure()\n",
        "plt.plot(fpr, tpr, label='Logistic Regression (area = %0.2f)' % logit_roc_auc)\n",
        "plt.plot([0, 1], [0, 1],'r--')\n",
        "plt.xlim([0.0, 1.0])\n",
        "plt.ylim([0.0, 1.05])\n",
        "plt.xlabel('False Positive Rate')\n",
        "plt.ylabel('True Positive Rate')\n",
        "plt.title('Receiver operating characteristic')\n",
        "plt.legend(loc=\"lower right\")\n",
        "plt.savefig('Log_ROC')\n",
        "plt.show()"
      ]
    },
    {
      "cell_type": "markdown",
      "source": [
        "The accuracy rate seems much higher than our oversampled model: but notice that the recall for class 1 is extremely low (0.04)! This indicates that the model is simply classifying most of the data it sees as the majority class, which is not desirable."
      ],
      "metadata": {
        "id": "LQ2MavJHZ1b7"
      }
    },
    {
      "cell_type": "markdown",
      "source": [
        "Therefore, based on the comparison, we prefer the model using oversampled training data."
      ],
      "metadata": {
        "id": "lJy544M4a6T_"
      }
    },
    {
      "cell_type": "markdown",
      "source": [
        "### Logistic Regression (Implementation)"
      ],
      "metadata": {
        "id": "NUzfYk49JOJB"
      }
    },
    {
      "cell_type": "markdown",
      "source": [
        "https://developer.ibm.com/articles/implementing-logistic-regression-from-scratch-in-python/\n"
      ],
      "metadata": {
        "id": "odvOXTyohPuL"
      }
    },
    {
      "cell_type": "markdown",
      "source": [
        "This section is just for learning-purpose: how to implement logistic regression instead of using Python packages"
      ],
      "metadata": {
        "id": "atTD5vILb5Zr"
      }
    },
    {
      "cell_type": "code",
      "source": [
        "import copy\n",
        "from sklearn.metrics import accuracy_score\n",
        "\n",
        "class LogisticRegression():\n",
        "    def __init__(self):\n",
        "        self.losses = []\n",
        "        self.train_accuracies = []\n",
        "\n",
        "    def fit(self, x, y, epochs):\n",
        "        x = self._transform_x(x)\n",
        "        y = self._transform_y(y)\n",
        "\n",
        "        self.weights = np.zeros(x.shape[1])\n",
        "        self.bias = 0\n",
        "\n",
        "        for i in range(epochs):\n",
        "            x_dot_weights = np.matmul(self.weights, x.transpose()) + self.bias\n",
        "            pred = self._sigmoid(x_dot_weights)\n",
        "            loss = self.compute_loss(y, pred)\n",
        "            error_w, error_b = self.compute_gradients(x, y, pred)\n",
        "            self.update_model_parameters(error_w, error_b)\n",
        "\n",
        "            pred_to_class = [1 if p > 0.5 else 0 for p in pred]\n",
        "            self.train_accuracies.append(accuracy_score(y, pred_to_class))\n",
        "            self.losses.append(loss)\n",
        "\n",
        "    def compute_loss(self, y_true, y_pred):\n",
        "        # binary cross entropy\n",
        "        y_zero_loss = y_true * np.log(y_pred + 1e-9)\n",
        "        y_one_loss = (1-y_true) * np.log(1 - y_pred + 1e-9)\n",
        "        return -np.mean(y_zero_loss + y_one_loss)\n",
        "\n",
        "    def compute_gradients(self, x, y_true, y_pred):\n",
        "        # derivative of binary cross entropy\n",
        "        difference =  y_pred - y_true\n",
        "        gradient_b = np.mean(difference)\n",
        "        gradients_w = np.matmul(x.transpose(), difference)\n",
        "        gradients_w = np.array([np.mean(grad) for grad in gradients_w])\n",
        "\n",
        "        return gradients_w, gradient_b\n",
        "\n",
        "    def update_model_parameters(self, error_w, error_b):\n",
        "        self.weights = self.weights - 0.1 * error_w\n",
        "        self.bias = self.bias - 0.1 * error_b\n",
        "\n",
        "    def predict(self, x):\n",
        "        x_dot_weights = np.matmul(x, self.weights.transpose()) + self.bias\n",
        "        probabilities = self._sigmoid(x_dot_weights)\n",
        "        return [1 if p > 0.5 else 0 for p in probabilities]\n",
        "\n",
        "    def _sigmoid(self, x):\n",
        "        return np.array([self._sigmoid_function(value) for value in x])\n",
        "\n",
        "    def _sigmoid_function(self, x):\n",
        "        if x >= 0:\n",
        "            z = np.exp(-x)\n",
        "            return 1 / (1 + z)\n",
        "        else:\n",
        "            z = np.exp(x)\n",
        "            return z / (1 + z)\n",
        "\n",
        "    def _transform_x(self, x):\n",
        "        x = copy.deepcopy(x)\n",
        "        return x.values\n",
        "\n",
        "    def _transform_y(self, y):\n",
        "        y = copy.deepcopy(y)\n",
        "        return y.values.reshape(y.shape[0], 1)"
      ],
      "metadata": {
        "id": "OIs7cztvcA8i"
      },
      "execution_count": null,
      "outputs": []
    }
  ]
}